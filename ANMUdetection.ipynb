{
  "cells": [
    {
      "cell_type": "code",
      "execution_count": null,
      "metadata": {
        "id": "gyif87P64aum"
      },
      "outputs": [],
      "source": [
        "import pandas as pd\n",
        "import numpy as np\n",
        "import matplotlib as mpl\n",
        "import pylab as pl\n",
        "from scipy import stats\n",
        "import matplotlib.pyplot as plt\n",
        "from matplotlib.pyplot import legend\n",
        "import seaborn as sns\n",
        "from mpl_toolkits.mplot3d import Axes3D\n",
        "from matplotlib.ticker import LinearLocator, FormatStrFormatter,MaxNLocator\n",
        "from mlxtend.plotting import plot_decision_regions\n",
        "from sklearn.svm import SVC"
      ]
    },
    {
      "cell_type": "code",
      "execution_count": null,
      "metadata": {
        "id": "YJSIAFj14auu"
      },
      "outputs": [],
      "source": [
        "df=pd.read_csv('AN.csv')\n",
        "energy=df.iloc[:,3:]\n",
        "emean=energy.mean(axis=1)\n",
        "X=df.iloc[:,0:1]\n",
        "X['energy']=emean\n",
        "y=df.iloc[:,1]\n",
        "feature_names=['CR-IoT users','Energy level']"
      ]
    },
    {
      "cell_type": "code",
      "execution_count": null,
      "metadata": {
        "id": "a6sFSCSR4auw",
        "outputId": "cfee0f94-a412-4fc9-b4f1-29d11aade7ad"
      },
      "outputs": [
        {
          "data": {
            "image/png": "[encoded data removed]",
            "text/plain": [
              "<Figure size 432x288 with 1 Axes>"
            ]
          },
          "metadata": {
            "needs_background": "light"
          },
          "output_type": "display_data"
        }
      ],
      "source": [
        "fig, ax = plt.subplots()\n",
        "for i in range(0, len(y)):\n",
        "    if y[i]==-1:\n",
        "        c1 = pl.scatter(X.CR_IoT[i],X.energy[i],c='r',    s=50,marker='*')\n",
        "    elif y[i]==1:\n",
        "        c2=pl.scatter(X.CR_IoT[i],X.energy[i],c='g',    s=50,marker='+')\n",
        "\n",
        "pl.legend([c1, c2], ['Malicious', 'Normal'],loc=\"upper left\", title=\"Classes\")\n",
        "pl.grid()\n",
        "ax.set_xlabel(\"{}\".format(feature_names[0]))\n",
        "ax.set_xlim(X.CR_IoT.min()-1,X.CR_IoT.max()+1)\n",
        "ax.xaxis.set_major_locator(MaxNLocator(integer=True))\n",
        "\n",
        "ax.set_ylabel(\"{}\".format(feature_names[1]))\n",
        "ax.set_ylim(X.energy.min()-1,X.energy.max()+1)\n",
        "ax.yaxis.set_major_locator(MaxNLocator(integer=True))\n",
        "pl.show()\n",
        "#ax.set_title(title)\n",
        "plt.show()"
      ]
    },
    {
      "cell_type": "code",
      "execution_count": null,
      "metadata": {
        "id": "R8tFP4I84auy"
      },
      "outputs": [],
      "source": [
        "def make_meshgrid(x, y, h=.02):\n",
        "    x_min, x_max = x.min() - 1, x.max() + 1\n",
        "    y_min, y_max = y.min() - 1, y.max() + 1\n",
        "    xx, yy = np.meshgrid(np.arange(x_min, x_max, h), np.arange(y_min, y_max, h))\n",
        "    return xx, yy"
      ]
    },
    {
      "cell_type": "code",
      "execution_count": null,
      "metadata": {
        "id": "PHzdvngk4auz"
      },
      "outputs": [],
      "source": [
        "def plot_contours(ax, clf, xx, yy, **params):\n",
        "    Z = clf.predict(np.c_[xx.ravel(), yy.ravel()])\n",
        "    Z = Z.reshape(xx.shape)\n",
        "    out = ax.contourf(xx, yy, Z, **params)\n",
        "    return out"
      ]
    },
    {
      "cell_type": "code",
      "execution_count": null,
      "metadata": {
        "id": "-YyIpHLv4au0",
        "outputId": "7c4add73-acfa-41aa-e208-ce68ae02ff8d"
      },
      "outputs": [
        {
          "data": {
            "image/png": "[encoded data removed]",
            "text/plain": [
              "<Figure size 432x288 with 1 Axes>"
            ]
          },
          "metadata": {
            "needs_background": "light"
          },
          "output_type": "display_data"
        }
      ],
      "source": [
        "model = SVC(kernel='linear')\n",
        "clf = model.fit(X, y)\n",
        "fig, ax = plt.subplots()\n",
        "# title for the plots\n",
        "title = ('Decision surface for ANMU')\n",
        "# Set-up grid for plotting.\n",
        "X0, X1 = X.CR_IoT, X.energy\n",
        "xx, yy = make_meshgrid(X0, X1)\n",
        "plot_contours(ax, clf, xx, yy, cmap='autumn', alpha=0.4)\n",
        "for i in range(0, len(y)):\n",
        "    if y[i]==-1:\n",
        "        c1 = pl.scatter(X.CR_IoT[i],X.energy[i],c='r',    s=50,marker='*')\n",
        "    elif y[i]==1:\n",
        "        c2=pl.scatter(X.CR_IoT[i],X.energy[i],c='g',    s=50,marker='+')\n",
        "\n",
        "pl.legend([c1, c2], ['Malicious', 'Normal'],loc=\"upper left\", title=\"Classes\")\n",
        "pl.grid()\n",
        "ax.set_xlabel(\"{}\".format(feature_names[0]))\n",
        "ax.set_xlim(X0.min()-1,X0.max()+1)\n",
        "ax.xaxis.set_major_locator(MaxNLocator(integer=True))\n",
        "\n",
        "ax.set_ylabel(\"{}\".format(feature_names[1]))\n",
        "ax.set_ylim(X1.min()-1,X1.max()+1)\n",
        "ax.yaxis.set_major_locator(MaxNLocator(integer=True))\n",
        "#ax.set_xticks(())\n",
        "#ax.set_yticks(())\n",
        "ax.set_title(title)\n",
        "plt.show()"
      ]
    },
    {
      "cell_type": "code",
      "execution_count": null,
      "metadata": {
        "id": "WiiC_DWX4au1"
      },
      "outputs": [],
      "source": [
        ""
      ]
    },
    {
      "cell_type": "code",
      "execution_count": null,
      "metadata": {
        "id": "5oSO_E8b4au2",
        "outputId": "2788397a-56b1-4f24-b36c-36ffafd07f3e"
      },
      "outputs": [
        {
          "data": {
            "image/png": "[encoded data removed]",
            "text/plain": [
              "<Figure size 432x288 with 1 Axes>"
            ]
          },
          "metadata": {
            "needs_background": "light"
          },
          "output_type": "display_data"
        }
      ],
      "source": [
        "from sklearn.svm import SVC\n",
        "model=SVC(kernel='linear')\n",
        "model.fit(X,y)\n",
        "ax = plt.gca()\n",
        "\n",
        "for i in range(0, len(y)):\n",
        "    if y[i]==-1:\n",
        "        c1 = pl.scatter(X.CR_IoT[i],X.energy[i],c='r',    s=60)\n",
        "    elif y[i]==1:\n",
        "        c2=pl.scatter(X.CR_IoT[i],X.energy[i],c='g',    s=60)\n",
        "\n",
        "pl.legend([c1, c2], ['Malicious', 'Normal'],loc=\"upper left\", title=\"Classes\")\n",
        "#pl.grid()\n",
        "\n",
        "# plot the decision function\n",
        "\n",
        "xlim = ax.get_xlim()\n",
        "ylim = ax.get_ylim()\n",
        "\n",
        "# create grid to evaluate model\n",
        "xx = np.linspace(xlim[0], xlim[1], 60)\n",
        "yy = np.linspace(ylim[0], ylim[1], 60)\n",
        "YY, XX = np.meshgrid(yy, xx)\n",
        "xy = np.vstack([XX.ravel(), YY.ravel()]).T\n",
        "Z = model.decision_function(xy).reshape(XX.shape)\n",
        "\n",
        "# plot decision boundary and margins\n",
        "ax.contour(XX, YY, Z, colors='black', levels=[0], alpha=0.7,\n",
        "           linestyles=[ '-'])\n",
        "# plot support vectors\n",
        "ax.scatter(model.support_vectors_[:, 0], model.support_vectors_[:, 1], s=50,\n",
        "           linewidth=1, facecolors='none', edgecolors='k')\n",
        "ax.set_xlabel(\"{}\".format(feature_names[0]))\n",
        "ax.set_xlim(X.CR_IoT.min()-1,X.CR_IoT.max()+1)\n",
        "ax.xaxis.set_major_locator(MaxNLocator(integer=True))\n",
        "\n",
        "ax.set_ylabel(\"{}\".format(feature_names[1]))\n",
        "ax.set_xlim(X.CR_IoT.min()-1,X.CR_IoT.max()+1)\n",
        "ax.xaxis.set_major_locator(MaxNLocator(integer=True))\n",
        "plt.grid()\n",
        "#ax.set_title('Disicion surface for')\n",
        "plt.show()"
      ]
    },
    {
      "cell_type": "code",
      "execution_count": null,
      "metadata": {
        "id": "sVBOOMZo4au4"
      },
      "outputs": [],
      "source": [
        ""
      ]
    }
  ],
  "metadata": {
    "kernelspec": {
      "display_name": "Python 3",
      "language": "python",
      "name": "python3"
    },
    "language_info": {
      "codemirror_mode": {
        "name": "ipython",
        "version": 3
      },
      "file_extension": ".py",
      "mimetype": "text/x-python",
      "name": "python",
      "nbconvert_exporter": "python",
      "pygments_lexer": "ipython3",
      "version": "3.7.4"
    },
    "colab": {
      "name": "ANMUdetection.ipynb",
      "provenance": []
    }
  },
  "nbformat": 4,
  "nbformat_minor": 0
}